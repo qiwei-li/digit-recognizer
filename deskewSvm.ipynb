{
 "cells": [
  {
   "cell_type": "code",
   "execution_count": 1,
   "metadata": {
    "collapsed": false
   },
   "outputs": [],
   "source": [
    "import numpy as np\n",
    "import pandas as pd\n",
    "import cv2\n",
    "%matplotlib inline\n",
    "import matplotlib.pyplot as plt\n",
    "import matplotlib.cm as cm\n",
    "import random"
   ]
  },
  {
   "cell_type": "code",
   "execution_count": 2,
   "metadata": {
    "collapsed": false
   },
   "outputs": [
    {
     "name": "stdout",
     "output_type": "stream",
     "text": [
      "(42000, 785)\n",
      "(28000, 784)\n"
     ]
    }
   ],
   "source": [
    "train = pd.read_csv(\"train.csv\")\n",
    "test = pd.read_csv(\"test.csv\")\n",
    "print(train.shape)\n",
    "print(test.shape)"
   ]
  },
  {
   "cell_type": "code",
   "execution_count": 3,
   "metadata": {
    "collapsed": false,
    "scrolled": true
   },
   "outputs": [
    {
     "name": "stdout",
     "output_type": "stream",
     "text": [
      "(37000, 785)\n",
      "(5000, 785)\n"
     ]
    }
   ],
   "source": [
    "random.seed(1)\n",
    "test_index = random.sample(range(train.shape[0]), 5000)\n",
    "train_index = list(set(range(train.shape[0])) - set(test_index))\n",
    "my_train = train.ix[train_index]\n",
    "my_test = train.ix[test_index]\n",
    "print(my_train.shape)\n",
    "print(my_test.shape)"
   ]
  },
  {
   "cell_type": "code",
   "execution_count": 4,
   "metadata": {
    "collapsed": false
   },
   "outputs": [
    {
     "name": "stdout",
     "output_type": "stream",
     "text": [
      "42000\n",
      "37000\n",
      "5000\n"
     ]
    }
   ],
   "source": [
    "train_labels = train[[0]].values.ravel()\n",
    "my_train_labels = my_train[[0]].values.ravel()\n",
    "my_test_labels = my_test[[0]].values.ravel()\n",
    "print(len(train_labels))\n",
    "print(len(my_train_labels))\n",
    "print(len(my_test_labels))"
   ]
  },
  {
   "cell_type": "code",
   "execution_count": 5,
   "metadata": {
    "collapsed": true
   },
   "outputs": [],
   "source": [
    "train_images = train.iloc[:,1:].values\n",
    "test_images = test.iloc[:,:].values\n",
    "my_train_images = my_train.iloc[:,1:].values\n",
    "my_test_images = my_test.iloc[:,1:].values\n",
    "\n",
    "train_images = train_images.astype(np.float)\n",
    "test_images = test_images.astype(np.float)\n",
    "my_train_images = my_train_images.astype(np.float)\n",
    "my_test_images = my_test_images.astype(np.float)\n",
    "\n",
    "train_images = np.multiply(train_images, 1.0 / 255.0)\n",
    "test_images = np.multiply(test_images, 1.0 / 255.0)\n",
    "my_train_images = np.multiply(my_train_images, 1.0 / 255.0)\n",
    "my_test_images = np.multiply(my_test_images, 1.0 / 255.0)"
   ]
  },
  {
   "cell_type": "code",
   "execution_count": 6,
   "metadata": {
    "collapsed": true
   },
   "outputs": [],
   "source": [
    "def imaginize(row):\n",
    "    one_image = row.reshape(28,28)\n",
    "    return one_image"
   ]
  },
  {
   "cell_type": "code",
   "execution_count": 7,
   "metadata": {
    "collapsed": true
   },
   "outputs": [],
   "source": [
    "def display(row):\n",
    "    one_image = imaginize(row)\n",
    "    plt.imshow(one_image, cmap=cm.binary)"
   ]
  },
  {
   "cell_type": "code",
   "execution_count": 8,
   "metadata": {
    "collapsed": false,
    "scrolled": true
   },
   "outputs": [
    {
     "data": {
      "image/png": "[encoded data removed]",
      "text/plain": [
       "<matplotlib.figure.Figure at 0x10c1d0510>"
      ]
     },
     "metadata": {},
     "output_type": "display_data"
    }
   ],
   "source": [
    "display(my_train_images[0])"
   ]
  },
  {
   "cell_type": "code",
   "execution_count": 9,
   "metadata": {
    "collapsed": true
   },
   "outputs": [],
   "source": [
    "# code modified from http://docs.opencv.org/master/dd/d3b/tutorial_py_svm_opencv.html#gsc.tab=0\n",
    "def deskew(row):\n",
    "    img = imaginize(row)\n",
    "    SZ = 28 #size of the image\n",
    "    affine_flags = cv2.WARP_INVERSE_MAP|cv2.INTER_LINEAR\n",
    "    m = cv2.moments(img)\n",
    "    if abs(m['mu02']) < 1e-2:\n",
    "        return img.copy()\n",
    "    skew = m['mu11']/m['mu02']\n",
    "    M = np.float32([[1, skew, -0.5*SZ*skew], [0, 1, 0]])\n",
    "    img = cv2.warpAffine(img,M,(SZ, SZ),flags=affine_flags)\n",
    "    return img"
   ]
  },
  {
   "cell_type": "code",
   "execution_count": 10,
   "metadata": {
    "collapsed": true
   },
   "outputs": [],
   "source": [
    "def display2(img):\n",
    "    one_image = imaginize(img)\n",
    "    plt.figure(1)\n",
    "    plt.subplot(121)\n",
    "    plt.imshow(one_image, cmap=cm.binary)\n",
    "    a = deskew(one_image)\n",
    "    plt.subplot(122)\n",
    "    plt.imshow(a, cmap=cm.binary)"
   ]
  },
  {
   "cell_type": "code",
   "execution_count": 11,
   "metadata": {
    "collapsed": false,
    "scrolled": true
   },
   "outputs": [
    {
     "data": {
      "image/png": "[encoded data removed]",
      "text/plain": [
       "<matplotlib.figure.Figure at 0x10c811fd0>"
      ]
     },
     "metadata": {},
     "output_type": "display_data"
    }
   ],
   "source": [
    "display2(my_train_images[0])"
   ]
  },
  {
   "cell_type": "code",
   "execution_count": 12,
   "metadata": {
    "collapsed": false
   },
   "outputs": [],
   "source": [
    "train_deskewed = train_images\n",
    "test_deskewed = test_images\n",
    "my_train_deskewed = my_train_images\n",
    "my_test_deskewed = my_test_images\n",
    "for i in range(train_images.shape[0]):\n",
    "    train_deskewed[i] = deskew(train_images[i]).ravel()\n",
    "for i in range(test_images.shape[0]):\n",
    "    test_deskewed[i] = deskew(test_images[i]).ravel()\n",
    "for i in range(my_train_images.shape[0]):\n",
    "    my_train_deskewed[i] = deskew(my_train_images[i]).ravel()\n",
    "for i in range(my_test_images.shape[0]):\n",
    "    my_test_deskewed[i] = deskew(my_test_images[i]).ravel()"
   ]
  },
  {
   "cell_type": "code",
   "execution_count": 13,
   "metadata": {
    "collapsed": true
   },
   "outputs": [],
   "source": [
    "from sklearn.decomposition import PCA\n",
    "from sklearn import svm\n",
    "from sklearn import metrics"
   ]
  },
  {
   "cell_type": "code",
   "execution_count": 14,
   "metadata": {
    "collapsed": false
   },
   "outputs": [
    {
     "data": {
      "text/plain": [
       "[<matplotlib.lines.Line2D at 0x10c59c150>]"
      ]
     },
     "execution_count": 14,
     "metadata": {},
     "output_type": "execute_result"
    },
    {
     "data": {
      "image/png": "[encoded data removed]",
      "text/plain": [
       "<matplotlib.figure.Figure at 0x11a0266d0>"
      ]
     },
     "metadata": {},
     "output_type": "display_data"
    }
   ],
   "source": [
    "# learn on orig image\n",
    "pca = PCA(n_components=100)\n",
    "pca.fit(my_train_images)\n",
    "plt.plot(np.cumsum(pca.explained_variance_ratio_))"
   ]
  },
  {
   "cell_type": "code",
   "execution_count": 15,
   "metadata": {
    "collapsed": false
   },
   "outputs": [
    {
     "name": "stdout",
     "output_type": "stream",
     "text": [
      "(37000, 100)\n",
      "(5000, 100)\n"
     ]
    }
   ],
   "source": [
    "my_train_reduced = pca.transform(my_train_images)\n",
    "my_test_reduced = pca.transform(my_test_images)\n",
    "print(my_train_reduced.shape)\n",
    "print(my_test_reduced.shape)"
   ]
  },
  {
   "cell_type": "code",
   "execution_count": 16,
   "metadata": {
    "collapsed": false
   },
   "outputs": [
    {
     "data": {
      "text/plain": [
       "SVC(C=1.0, cache_size=200, class_weight=None, coef0=0.0,\n",
       "  decision_function_shape=None, degree=3, gamma=0.001, kernel='rbf',\n",
       "  max_iter=-1, probability=False, random_state=None, shrinking=True,\n",
       "  tol=0.001, verbose=False)"
      ]
     },
     "execution_count": 16,
     "metadata": {},
     "output_type": "execute_result"
    }
   ],
   "source": [
    "classifier = svm.SVC(gamma=0.001)\n",
    "classifier.fit(my_train_reduced, my_train_labels)"
   ]
  },
  {
   "cell_type": "code",
   "execution_count": 17,
   "metadata": {
    "collapsed": false
   },
   "outputs": [
    {
     "name": "stdout",
     "output_type": "stream",
     "text": [
      "Classification report for classifier SVC(C=1.0, cache_size=200, class_weight=None, coef0=0.0,\n",
      "  decision_function_shape=None, degree=3, gamma=0.001, kernel='rbf',\n",
      "  max_iter=-1, probability=False, random_state=None, shrinking=True,\n",
      "  tol=0.001, verbose=False):\n",
      "             precision    recall  f1-score   support\n",
      "\n",
      "          0       0.95      0.98      0.96       473\n",
      "          1       0.98      0.99      0.99       553\n",
      "          2       0.94      0.95      0.95       506\n",
      "          3       0.96      0.95      0.95       523\n",
      "          4       0.92      0.97      0.94       480\n",
      "          5       0.94      0.95      0.95       457\n",
      "          6       0.98      0.96      0.97       503\n",
      "          7       0.98      0.96      0.97       498\n",
      "          8       0.96      0.92      0.94       506\n",
      "          9       0.93      0.91      0.92       501\n",
      "\n",
      "avg / total       0.95      0.95      0.95      5000\n",
      "\n",
      "\n",
      "Confusion matrix:\n",
      "[[462   0   0   1   1   4   1   0   4   0]\n",
      " [  0 548   1   1   0   0   1   0   0   2]\n",
      " [  7   0 483   5   6   1   1   1   0   2]\n",
      " [  1   2   4 496   0  10   0   0   7   3]\n",
      " [  2   3   5   0 464   0   0   1   0   5]\n",
      " [  5   1   2   0   1 436   5   3   4   0]\n",
      " [  4   0   8   0   3   5 482   0   1   0]\n",
      " [  1   0   2   0   2   0   0 477   0  16]\n",
      " [  1   4   6   7   7   6   3   1 467   4]\n",
      " [  2   1   2   7  19   3   0   5   6 456]]\n"
     ]
    }
   ],
   "source": [
    "predicted = classifier.predict(my_test_reduced)\n",
    "print(\"Classification report for classifier %s:\\n%s\\n\"\n",
    "      % (classifier, metrics.classification_report(my_test_labels, predicted)))\n",
    "print(\"Confusion matrix:\\n%s\" % metrics.confusion_matrix(my_test_labels, predicted))"
   ]
  },
  {
   "cell_type": "code",
   "execution_count": 18,
   "metadata": {
    "collapsed": false
   },
   "outputs": [
    {
     "name": "stdout",
     "output_type": "stream",
     "text": [
      "Classification report for classifier SVC(C=1.0, cache_size=200, class_weight=None, coef0=0.0,\n",
      "  decision_function_shape=None, degree=3, gamma=0.001, kernel='rbf',\n",
      "  max_iter=-1, probability=False, random_state=None, shrinking=True,\n",
      "  tol=0.001, verbose=False):\n",
      "             precision    recall  f1-score   support\n",
      "\n",
      "          0       0.95      0.98      0.96       473\n",
      "          1       0.98      0.99      0.99       553\n",
      "          2       0.94      0.95      0.95       506\n",
      "          3       0.96      0.95      0.95       523\n",
      "          4       0.92      0.97      0.94       480\n",
      "          5       0.94      0.95      0.95       457\n",
      "          6       0.98      0.96      0.97       503\n",
      "          7       0.98      0.96      0.97       498\n",
      "          8       0.96      0.92      0.94       506\n",
      "          9       0.93      0.91      0.92       501\n",
      "\n",
      "avg / total       0.95      0.95      0.95      5000\n",
      "\n",
      "\n",
      "Confusion matrix:\n",
      "[[462   0   0   1   1   4   1   0   4   0]\n",
      " [  0 548   1   1   0   0   1   0   0   2]\n",
      " [  7   0 483   5   6   1   1   1   0   2]\n",
      " [  1   2   4 496   0  10   0   0   7   3]\n",
      " [  2   3   5   0 464   0   0   1   0   5]\n",
      " [  5   1   2   0   1 436   5   3   4   0]\n",
      " [  4   0   8   0   3   5 482   0   1   0]\n",
      " [  1   0   2   0   2   0   0 477   0  16]\n",
      " [  1   4   6   7   7   6   3   1 467   4]\n",
      " [  2   1   2   7  19   3   0   5   6 456]]\n"
     ]
    }
   ],
   "source": [
    "# learn on deskewed image\n",
    "pca = PCA(n_components=100)\n",
    "pca.fit(my_train_deskewed)\n",
    "my_train_reduced = pca.transform(my_train_deskewed)\n",
    "my_test_reduced = pca.transform(my_test_deskewed)\n",
    "classifier = svm.SVC(gamma=0.001)\n",
    "classifier.fit(my_train_reduced, my_train_labels)\n",
    "predicted = classifier.predict(my_test_reduced)\n",
    "print(\"Classification report for classifier %s:\\n%s\\n\"\n",
    "      % (classifier, metrics.classification_report(my_test_labels, predicted)))\n",
    "print(\"Confusion matrix:\\n%s\" % metrics.confusion_matrix(my_test_labels, predicted))"
   ]
  },
  {
   "cell_type": "code",
   "execution_count": null,
   "metadata": {
    "collapsed": false,
    "scrolled": false
   },
   "outputs": [],
   "source": [
    "# use the entire training set to train\n",
    "pca = PCA(n_components=100)\n",
    "pca.fit(train_images)\n",
    "train_reduced = pca.transform(train_images)\n",
    "test_reduced = pca.transform(test_images)\n",
    "print(train_reduced.shape)\n",
    "print(test_reduced.shape)"
   ]
  },
  {
   "cell_type": "code",
   "execution_count": null,
   "metadata": {
    "collapsed": false
   },
   "outputs": [],
   "source": [
    "classifier = svm.SVC(gamma=0.001)\n",
    "classifier.fit(train_reduced, train_labels)"
   ]
  },
  {
   "cell_type": "code",
   "execution_count": null,
   "metadata": {
    "collapsed": true
   },
   "outputs": [],
   "source": [
    "predicted = classifier.predict(test_reduced)"
   ]
  },
  {
   "cell_type": "code",
   "execution_count": null,
   "metadata": {
    "collapsed": false
   },
   "outputs": [],
   "source": [
    "df = pd.DataFrame(index=range(len(predicted)), columns=['ImageId','Label'])"
   ]
  },
  {
   "cell_type": "code",
   "execution_count": null,
   "metadata": {
    "collapsed": false,
    "scrolled": false
   },
   "outputs": [],
   "source": [
    "df['ImageId'] = range(1, len(predicted)+1)\n",
    "df['Label'] = predicted"
   ]
  },
  {
   "cell_type": "code",
   "execution_count": null,
   "metadata": {
    "collapsed": false
   },
   "outputs": [],
   "source": [
    "df.to_csv('pred.csv', sep=',', idne)"
   ]
  }
 ],
 "metadata": {
  "kernelspec": {
   "display_name": "Python 2",
   "language": "python",
   "name": "python2"
  },
  "language_info": {
   "codemirror_mode": {
    "name": "ipython",
    "version": 2
   },
   "file_extension": ".py",
   "mimetype": "text/x-python",
   "name": "python",
   "nbconvert_exporter": "python",
   "pygments_lexer": "ipython2",
   "version": "2.7.11"
  }
 },
 "nbformat": 4,
 "nbformat_minor": 0
}
